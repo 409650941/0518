{
  "nbformat": 4,
  "nbformat_minor": 0,
  "metadata": {
    "colab": {
      "name": "0518.ipynb",
      "provenance": [],
      "authorship_tag": "ABX9TyPC3RMQP8oRM9PHN9tllwkT",
      "include_colab_link": true
    },
    "kernelspec": {
      "name": "python3",
      "display_name": "Python 3"
    },
    "language_info": {
      "name": "python"
    }
  },
  "cells": [
    {
      "cell_type": "markdown",
      "metadata": {
        "id": "view-in-github",
        "colab_type": "text"
      },
      "source": [
        "<a href=\"https://colab.research.google.com/github/409650941/0518/blob/main/0518.ipynb\" target=\"_parent\"><img src=\"https://colab.research.google.com/assets/colab-badge.svg\" alt=\"Open In Colab\"/></a>"
      ]
    },
    {
      "cell_type": "code",
      "execution_count": 1,
      "metadata": {
        "id": "TvsYX8IpF-lw"
      },
      "outputs": [],
      "source": [
        "i=range(5)"
      ]
    },
    {
      "cell_type": "code",
      "source": [
        "print(type(i))"
      ],
      "metadata": {
        "colab": {
          "base_uri": "https://localhost:8080/"
        },
        "id": "ylktfbm3GKfW",
        "outputId": "e86fe031-c460-41d1-d50f-a034d1cc2d02"
      },
      "execution_count": 2,
      "outputs": [
        {
          "output_type": "stream",
          "name": "stdout",
          "text": [
            "<class 'range'>\n"
          ]
        }
      ]
    },
    {
      "cell_type": "code",
      "source": [
        "print(i)"
      ],
      "metadata": {
        "colab": {
          "base_uri": "https://localhost:8080/"
        },
        "id": "fujd1ihEGX5T",
        "outputId": "92c0546f-f229-4ddb-ec49-1a320b326b2b"
      },
      "execution_count": 3,
      "outputs": [
        {
          "output_type": "stream",
          "name": "stdout",
          "text": [
            "range(0, 5)\n"
          ]
        }
      ]
    },
    {
      "cell_type": "code",
      "source": [
        "print(list(i))"
      ],
      "metadata": {
        "colab": {
          "base_uri": "https://localhost:8080/"
        },
        "id": "fc8eijmpHDBs",
        "outputId": "15fc3e3d-44e7-476f-a672-661bf4455a85"
      },
      "execution_count": 4,
      "outputs": [
        {
          "output_type": "stream",
          "name": "stdout",
          "text": [
            "[0, 1, 2, 3, 4]\n"
          ]
        }
      ]
    },
    {
      "cell_type": "code",
      "source": [
        "j=range(10)"
      ],
      "metadata": {
        "id": "TxhqxoNkHI4h"
      },
      "execution_count": 5,
      "outputs": []
    },
    {
      "cell_type": "code",
      "source": [
        "a=range(3,8)\n",
        "print(list(a))"
      ],
      "metadata": {
        "colab": {
          "base_uri": "https://localhost:8080/"
        },
        "id": "L8IMjbW_His_",
        "outputId": "b9591ba9-9354-4ca0-81dc-26b9f5576041"
      },
      "execution_count": 6,
      "outputs": [
        {
          "output_type": "stream",
          "name": "stdout",
          "text": [
            "[3, 4, 5, 6, 7]\n"
          ]
        }
      ]
    },
    {
      "cell_type": "code",
      "source": [
        "b=range(-2,4)\n",
        "print(list(b))"
      ],
      "metadata": {
        "colab": {
          "base_uri": "https://localhost:8080/"
        },
        "id": "SA6M-O_6OZIJ",
        "outputId": "eafd4b55-b648-4725-f6de-9bf4d4f9728c"
      },
      "execution_count": 9,
      "outputs": [
        {
          "output_type": "stream",
          "name": "stdout",
          "text": [
            "[-2, -1, 0, 1, 2, 3]\n"
          ]
        }
      ]
    },
    {
      "cell_type": "code",
      "source": [
        "c=range(3,8,1)\n",
        "print(list(c))"
      ],
      "metadata": {
        "colab": {
          "base_uri": "https://localhost:8080/"
        },
        "id": "YKkd4AJnOgfn",
        "outputId": "ffacb3cc-1b63-4b36-e3cd-20e73fdb20fe"
      },
      "execution_count": 10,
      "outputs": [
        {
          "output_type": "stream",
          "name": "stdout",
          "text": [
            "[3, 4, 5, 6, 7]\n"
          ]
        }
      ]
    },
    {
      "cell_type": "code",
      "source": [
        "d=range(3,8,2)\n",
        "print(list(d))"
      ],
      "metadata": {
        "colab": {
          "base_uri": "https://localhost:8080/"
        },
        "id": "4Z8y9uQ4Ph3Y",
        "outputId": "59bc6d1f-f314-471f-d145-59d716e0b1ef"
      },
      "execution_count": 11,
      "outputs": [
        {
          "output_type": "stream",
          "name": "stdout",
          "text": [
            "[3, 5, 7]\n"
          ]
        }
      ]
    },
    {
      "cell_type": "code",
      "source": [
        "e=range(8,3,-1)\n",
        "print(list(e))"
      ],
      "metadata": {
        "colab": {
          "base_uri": "https://localhost:8080/"
        },
        "id": "2N12p5OpQ_0d",
        "outputId": "4969cb9a-8389-4b7a-d1b2-59c0430206e4"
      },
      "execution_count": 12,
      "outputs": [
        {
          "output_type": "stream",
          "name": "stdout",
          "text": [
            "[8, 7, 6, 5, 4]\n"
          ]
        }
      ]
    },
    {
      "cell_type": "code",
      "source": [
        "for n in range(10):\n",
        "  print(n,end=\",\")\n"
      ],
      "metadata": {
        "colab": {
          "base_uri": "https://localhost:8080/"
        },
        "id": "pU3qRvkpRHgq",
        "outputId": "778d679b-75e5-42dc-e57e-02ff12245b1d"
      },
      "execution_count": 1,
      "outputs": [
        {
          "output_type": "stream",
          "name": "stdout",
          "text": [
            "0,1,2,3,4,5,6,7,8,9,"
          ]
        }
      ]
    },
    {
      "cell_type": "code",
      "source": [
        "f=range(9)\n",
        "print(list(f))\n"
      ],
      "metadata": {
        "colab": {
          "base_uri": "https://localhost:8080/"
        },
        "id": "jzAqw09dCqwQ",
        "outputId": "3cb0f48b-40ce-41f0-a8ef-7b7f7e37868e"
      },
      "execution_count": 2,
      "outputs": [
        {
          "output_type": "stream",
          "name": "stdout",
          "text": [
            "[0, 1, 2, 3, 4, 5, 6, 7, 8]\n"
          ]
        }
      ]
    },
    {
      "cell_type": "code",
      "source": [
        "g=range(1,10)\n",
        "print(list(g))"
      ],
      "metadata": {
        "colab": {
          "base_uri": "https://localhost:8080/"
        },
        "id": "GUIJpWYCC5GS",
        "outputId": "2d4b1681-d147-4544-f912-4907ca748547"
      },
      "execution_count": 3,
      "outputs": [
        {
          "output_type": "stream",
          "name": "stdout",
          "text": [
            "[1, 2, 3, 4, 5, 6, 7, 8, 9]\n"
          ]
        }
      ]
    },
    {
      "cell_type": "code",
      "source": [
        "h=range(1,10,2)\n",
        "print(list(h))"
      ],
      "metadata": {
        "colab": {
          "base_uri": "https://localhost:8080/"
        },
        "id": "ViozTSQUDA1z",
        "outputId": "51171bec-f185-40db-c72e-9421acda1983"
      },
      "execution_count": 4,
      "outputs": [
        {
          "output_type": "stream",
          "name": "stdout",
          "text": [
            "[1, 3, 5, 7, 9]\n"
          ]
        }
      ]
    },
    {
      "cell_type": "code",
      "source": [
        "i=range(10,1,-2)\n",
        "print(list(i))"
      ],
      "metadata": {
        "colab": {
          "base_uri": "https://localhost:8080/"
        },
        "id": "IRvakXuEDJBd",
        "outputId": "0a71359b-9f25-4309-fbba-c542fe63f28f"
      },
      "execution_count": 5,
      "outputs": [
        {
          "output_type": "stream",
          "name": "stdout",
          "text": [
            "[10, 8, 6, 4, 2]\n"
          ]
        }
      ]
    },
    {
      "cell_type": "code",
      "source": [
        "test=int(input(\"請輸入一個正整數\"))\n",
        "for m in range(1,test+1):\n",
        "  print(m,end= \"\")\n"
      ],
      "metadata": {
        "colab": {
          "base_uri": "https://localhost:8080/"
        },
        "id": "tKXKpXKBDQ0R",
        "outputId": "82a038b1-5cc8-4190-9954-05c86e6dc5b1"
      },
      "execution_count": 7,
      "outputs": [
        {
          "output_type": "stream",
          "name": "stdout",
          "text": [
            "請輸入一個正整數10\n",
            "12345678910"
          ]
        }
      ]
    },
    {
      "cell_type": "code",
      "source": [
        "test1=int(input(\"請輸入一個正整數\"))\n",
        "for m in range(1,test1+1,2):\n",
        "  print(m,end= \"\")"
      ],
      "metadata": {
        "colab": {
          "base_uri": "https://localhost:8080/"
        },
        "id": "_b7hedqcD8BI",
        "outputId": "78c9b7f1-01c3-4148-ada9-682a5e4c5f9a"
      },
      "execution_count": 11,
      "outputs": [
        {
          "output_type": "stream",
          "name": "stdout",
          "text": [
            "請輸入一個正整數10\n",
            "13579"
          ]
        }
      ]
    },
    {
      "cell_type": "code",
      "source": [
        "sum=0\n",
        "for n in range(5):\n",
        "  sum=sum+n\n",
        "print(sum)"
      ],
      "metadata": {
        "colab": {
          "base_uri": "https://localhost:8080/"
        },
        "id": "3vrN5NMCEEBh",
        "outputId": "707cbc8e-0228-4bbd-f2db-3416cee9b788"
      },
      "execution_count": 13,
      "outputs": [
        {
          "output_type": "stream",
          "name": "stdout",
          "text": [
            "10\n"
          ]
        }
      ]
    },
    {
      "cell_type": "code",
      "source": [
        "for n in range(3):\n",
        "  print(n,end=\",\")"
      ],
      "metadata": {
        "colab": {
          "base_uri": "https://localhost:8080/"
        },
        "id": "iCBMY9qQEyEu",
        "outputId": "55247c0e-9f28-4b89-ad82-c0fff096b909"
      },
      "execution_count": 15,
      "outputs": [
        {
          "output_type": "stream",
          "name": "stdout",
          "text": [
            "0,1,2,"
          ]
        }
      ]
    },
    {
      "cell_type": "code",
      "source": [
        "sum=0\n",
        "a=int(input(\"請輸入一個正整數:\"))\n",
        "for n in range(1,a+1):\n",
        "    sum=sum+n\n",
        "print(\"1到\",a,\"的整數和為\",sum)"
      ],
      "metadata": {
        "colab": {
          "base_uri": "https://localhost:8080/"
        },
        "id": "fRNBUcFzFJ_M",
        "outputId": "e895a494-757c-4b0e-c9fb-6e2fa24516c7"
      },
      "execution_count": 16,
      "outputs": [
        {
          "output_type": "stream",
          "name": "stdout",
          "text": [
            "請輸入一個正整數:50\n",
            "1到 50 的整數和為 1275\n"
          ]
        }
      ]
    },
    {
      "cell_type": "code",
      "source": [
        "sum=0\n",
        "a=int(input(\"請輸入一個正整數:\"))\n",
        "for n in range(1,a+1):\n",
        "    sum=sum+n\n",
        "    print(\"1到\",str(n)+\"的整數和為\",sum)"
      ],
      "metadata": {
        "colab": {
          "base_uri": "https://localhost:8080/"
        },
        "id": "EweV6vplG08Y",
        "outputId": "573306e3-d5c6-40a4-c1dc-4837d0011588"
      },
      "execution_count": 17,
      "outputs": [
        {
          "output_type": "stream",
          "name": "stdout",
          "text": [
            "請輸入一個正整數:50\n",
            "1到 1的整數和為 1\n",
            "1到 2的整數和為 3\n",
            "1到 3的整數和為 6\n",
            "1到 4的整數和為 10\n",
            "1到 5的整數和為 15\n",
            "1到 6的整數和為 21\n",
            "1到 7的整數和為 28\n",
            "1到 8的整數和為 36\n",
            "1到 9的整數和為 45\n",
            "1到 10的整數和為 55\n",
            "1到 11的整數和為 66\n",
            "1到 12的整數和為 78\n",
            "1到 13的整數和為 91\n",
            "1到 14的整數和為 105\n",
            "1到 15的整數和為 120\n",
            "1到 16的整數和為 136\n",
            "1到 17的整數和為 153\n",
            "1到 18的整數和為 171\n",
            "1到 19的整數和為 190\n",
            "1到 20的整數和為 210\n",
            "1到 21的整數和為 231\n",
            "1到 22的整數和為 253\n",
            "1到 23的整數和為 276\n",
            "1到 24的整數和為 300\n",
            "1到 25的整數和為 325\n",
            "1到 26的整數和為 351\n",
            "1到 27的整數和為 378\n",
            "1到 28的整數和為 406\n",
            "1到 29的整數和為 435\n",
            "1到 30的整數和為 465\n",
            "1到 31的整數和為 496\n",
            "1到 32的整數和為 528\n",
            "1到 33的整數和為 561\n",
            "1到 34的整數和為 595\n",
            "1到 35的整數和為 630\n",
            "1到 36的整數和為 666\n",
            "1到 37的整數和為 703\n",
            "1到 38的整數和為 741\n",
            "1到 39的整數和為 780\n",
            "1到 40的整數和為 820\n",
            "1到 41的整數和為 861\n",
            "1到 42的整數和為 903\n",
            "1到 43的整數和為 946\n",
            "1到 44的整數和為 990\n",
            "1到 45的整數和為 1035\n",
            "1到 46的整數和為 1081\n",
            "1到 47的整數和為 1128\n",
            "1到 48的整數和為 1176\n",
            "1到 49的整數和為 1225\n",
            "1到 50的整數和為 1275\n"
          ]
        }
      ]
    },
    {
      "cell_type": "code",
      "source": [
        ""
      ],
      "metadata": {
        "id": "pec594bUHFzj"
      },
      "execution_count": null,
      "outputs": []
    }
  ]
}